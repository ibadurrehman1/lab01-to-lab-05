{
 "cells": [
  {
   "cell_type": "markdown",
   "metadata": {},
   "source": [
    "# LAB 03 - PYTHON OPERATORS"
   ]
  },
  {
   "cell_type": "markdown",
   "metadata": {},
   "source": [
    "# QUESTION NO 1"
   ]
  },
  {
   "cell_type": "code",
   "execution_count": 6,
   "metadata": {},
   "outputs": [
    {
     "name": "stdout",
     "output_type": "stream",
     "text": [
      "Input constant angular speed in rad/sec:10\n",
      "Input first radius in meter:0.5\n",
      "Input second radius in meter:1\n",
      "Input third radius in meter:2\n",
      "Linear velocity of v1 is 5.0 m/s\n",
      "Linear velocity of v2 is 10.0 m/s\n",
      "Linear velocity of v3 is 20.0 m/s\n"
     ]
    }
   ],
   "source": [
    "w=float(input(\"Input constant angular speed in rad/sec:\"))\n",
    "r1=float(input(\"Input first radius in meter:\"))\n",
    "r2=float(input(\"Input second radius in meter:\"))\n",
    "r3=float(input(\"Input third radius in meter:\"))\n",
    "v1=w*r1\n",
    "v2=w*r2\n",
    "v3=w*r3\n",
    "print(\"Linear velocity of v1 is\",v1,\"m/s\")\n",
    "print(\"Linear velocity of v2 is\",v2,\"m/s\")\n",
    "print(\"Linear velocity of v3 is\",v3,\"m/s\")"
   ]
  },
  {
   "cell_type": "markdown",
   "metadata": {},
   "source": [
    "# QUESTION NO 2"
   ]
  },
  {
   "cell_type": "code",
   "execution_count": 7,
   "metadata": {},
   "outputs": [
    {
     "name": "stdout",
     "output_type": "stream",
     "text": [
      "Input constant angular speed in rad/sec:523.3\n",
      "Input first radius in cm:5\n",
      "Input second radius in cm:10\n",
      "Linear velocity of v1 is 26.165 m/s\n",
      "Linear velocity of v2 is 52.33 m/s\n"
     ]
    }
   ],
   "source": [
    "w=float(input(\"Input constant angular speed in rad/sec:\"))\n",
    "r1=float(input(\"Input first radius in cm:\"))\n",
    "r2=float(input(\"Input second radius in cm:\"))\n",
    "v1=w*r1/100\n",
    "v2=w*r2/100\n",
    "print(\"Linear velocity of v1 is\",v1,\"m/s\")\n",
    "print(\"Linear velocity of v2 is\",v2,\"m/s\")"
   ]
  },
  {
   "cell_type": "code",
   "execution_count": 2,
   "metadata": {},
   "outputs": [
    {
     "name": "stdout",
     "output_type": "stream",
     "text": [
      "Input constant speed in m/s:10\n",
      "Input radius in meter:0.3\n",
      "Angular velocity is 33.333333333333336 rad/s\n"
     ]
    }
   ],
   "source": [
    "v=float(input(\"Input constant speed in m/s:\"))\n",
    "r=float(input(\"Input radius in meter:\"))\n",
    "w=v/r\n",
    "print(\"Angular velocity is\",w,\"rad/s\")\n"
   ]
  },
  {
   "cell_type": "code",
   "execution_count": 3,
   "metadata": {},
   "outputs": [
    {
     "name": "stdout",
     "output_type": "stream",
     "text": [
      "Input linear speed in m/s:10\n",
      "Input radius of tire in meter:0.25\n",
      "Angular speed is 40.0 rad/s\n"
     ]
    }
   ],
   "source": [
    "v=float(input(\"Input linear speed in m/s:\"))\n",
    "r=float(input(\"Input radius of tire in meter:\"))\n",
    "w=v/r\n",
    "print(\"Angular speed is\",w,\"rad/s\")"
   ]
  },
  {
   "cell_type": "code",
   "execution_count": 2,
   "metadata": {},
   "outputs": [
    {
     "name": "stdout",
     "output_type": "stream",
     "text": [
      "Input angular speed in rad/s:12.56\n",
      "Input radius of tire in meter:0.2\n",
      "Input car traveling time:10\n",
      "linear velocity is 2.5120000000000005 rad/s\n",
      "distance covered in time(t) 25.120000000000005 meter\n"
     ]
    }
   ],
   "source": [
    "w=float(input(\"Input angular speed in rad/s:\"))\n",
    "r=float(input(\"Input radius of tire in meter:\"))\n",
    "t=float(input(\"Input car traveling time:\"))\n",
    "v=w*r\n",
    "d=v*t\n",
    "print(\"linear velocity is\",v,\"rad/s\")\n",
    "print(\"distance covered in time(t)\",d,\"meter\")"
   ]
  },
  {
   "cell_type": "code",
   "execution_count": 5,
   "metadata": {},
   "outputs": [
    {
     "name": "stdout",
     "output_type": "stream",
     "text": [
      "Input velocity of car in miles/hours:50\n",
      "Input accerleration of car in miles/(hr)*2:10\n",
      "input time in hours:2\n",
      "Car travel 30.0 miles in 2.0 hours\n"
     ]
    }
   ],
   "source": [
    "v=float(input(\"Input velocity of car in miles/hours:\"))\n",
    "a=float(input(\"Input accerleration of car in miles/(hr)*2:\"))\n",
    "t=float(input(\"input time in hours:\"))\n",
    "u=v-a*t\n",
    "print(\"Car travel\",u,\"miles in\",t,\"hours\")"
   ]
  },
  {
   "cell_type": "code",
   "execution_count": 11,
   "metadata": {},
   "outputs": [
    {
     "name": "stdout",
     "output_type": "stream",
     "text": [
      "Input distance in feets:100\n",
      "Input accerleration:9.8\n",
      "input initial velocity0\n",
      "final velocity of stone is 44.271887242357316 ft/s\n"
     ]
    }
   ],
   "source": [
    "s=float(input(\"Input distance in feets:\"))\n",
    "a=float(input(\"Input accerleration:\"))\n",
    "u=float(input(\"input initial velocity\"))\n",
    "v=(2*a*s+u**2)**(0.5)\n",
    "print (\"final velocity of stone is\",v,\"ft/s\")\n"
   ]
  }
 ],
 "metadata": {
  "kernelspec": {
   "display_name": "Python 3",
   "language": "python",
   "name": "python3"
  },
  "language_info": {
   "codemirror_mode": {
    "name": "ipython",
    "version": 3
   },
   "file_extension": ".py",
   "mimetype": "text/x-python",
   "name": "python",
   "nbconvert_exporter": "python",
   "pygments_lexer": "ipython3",
   "version": "3.7.4"
  }
 },
 "nbformat": 4,
 "nbformat_minor": 2
}
