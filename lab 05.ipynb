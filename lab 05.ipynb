{
 "cells": [
  {
   "cell_type": "code",
   "execution_count": 1,
   "metadata": {},
   "outputs": [
    {
     "name": "stdout",
     "output_type": "stream",
     "text": [
      "Enter the radius of the cylinder: 2\n",
      "Enter the height of the cylinder: 3\n",
      "The Area of the cylinder is:  62.83185307179586 m²\n",
      "The volume of the cylinder is:  37.69911184307752 m³\n"
     ]
    }
   ],
   "source": [
    "#Program 1\n",
    "import math\n",
    "def area(r,h):\n",
    "    A=2*math.pi*r*h + 2*math.pi*r**2\n",
    "    return A\n",
    "r=int(input(\"Enter the radius of the cylinder: \"))\n",
    "h=int(input(\"Enter the height of the cylinder: \"))\n",
    "print(\"The Area of the cylinder is: \", area(r,h),\"m²\")\n",
    "\n",
    "def vol(r,h):\n",
    "    V=math.pi*h*r**2\n",
    "    return V\n",
    "print(\"The volume of the cylinder is: \", vol(r,h),\"m³\") "
   ]
  },
  {
   "cell_type": "code",
   "execution_count": 2,
   "metadata": {},
   "outputs": [
    {
     "name": "stdout",
     "output_type": "stream",
     "text": [
      "Enter the widht of the rectangle: 3\n",
      "Enter the lenght of the rectangle: 5\n",
      "Enter the height of the rectangle: 1\n",
      "The area of the rectangle is:  15 m²\n",
      "The volume of the cylinder is:  15 m³\n"
     ]
    }
   ],
   "source": [
    "#Program 2\n",
    "#Question-2\n",
    "import math\n",
    "def area(l,w):\n",
    "    A=w*l\n",
    "    return A\n",
    "w=int(input(\"Enter the widht of the rectangle: \"))\n",
    "l=int(input(\"Enter the lenght of the rectangle: \"))\n",
    "h=int(input(\"Enter the height of the rectangle: \"))\n",
    "print(\"The area of the rectangle is: \",area(l,w),\"m²\")\n",
    "\n",
    "def vol(h,l,w):\n",
    "    V=h*l*w\n",
    "    return V\n",
    "print(\"The volume of the cylinder is: \",vol(h,l,w),\"m³\")"
   ]
  },
  {
   "cell_type": "code",
   "execution_count": 3,
   "metadata": {},
   "outputs": [
    {
     "name": "stdout",
     "output_type": "stream",
     "text": [
      "This program will generate the nth term of the sequence\n",
      "Input first term of sequence3\n",
      "Input common difference6\n",
      "Input which term answer you need:35\n",
      "The value of  35 term is 207\n",
      "\n",
      "DO YOu WaNT TO USE ANOTHER nTH TERM,IF YES TYPE y,ELSE n:\n",
      "y\n",
      "Input first term of sequence3\n",
      "Input common difference6\n",
      "Input which term answer you need:45\n",
      "The value of  45 term is 267\n",
      "\n",
      "DO YOu WaNT TO USE ANOTHER nTH TERM,IF YES TYPE y,ELSE n:\n",
      "n\n",
      "HAVE A NICE DAY!\n"
     ]
    }
   ],
   "source": [
    "print(\"This program will generate the nth term of the sequence\") \n",
    "def Tn():\n",
    "    a=int(input(\"Input first term of sequence\"))\n",
    "    d=int(input(\"Input common difference\"))\n",
    "    n=int(input(\"Input which term answer you need:\"))\n",
    "    Tn=a+(n-1)*d\n",
    "    print(\"The value of \",n, \"term is\",Tn)\n",
    "    again()\n",
    "def again():\n",
    "    condition=input(\"\\nDO YOu WaNT TO USE ANOTHER nTH TERM,IF YES TYPE y,ELSE n:\\n\")\n",
    "    if condition=='y':\n",
    "        Tn() \n",
    "    elif condition=='n':\n",
    "        print(\"HAVE A NICE DAY!\")\n",
    "    else: \n",
    "        print(\"you press a invalid key\" )\n",
    "Tn()    "
   ]
  },
  {
   "cell_type": "code",
   "execution_count": 4,
   "metadata": {},
   "outputs": [
    {
     "name": "stdout",
     "output_type": "stream",
     "text": [
      "THIS IS A PROGRAM TO CHECK IF THE GIVEN STRING IS PALINDROME\n",
      "ENTER ANY WORD:\n",
      "MOM\n",
      "The string is Palindrome\n",
      "\n",
      "DO YOu WaNT TO USE ANOTHER ANY OTHER WORD,IF YES TYPE y,ELSE n:\n",
      "y\n",
      "ENTER ANY WORD:\n",
      "CIVIC\n",
      "The string is Palindrome\n",
      "\n",
      "DO YOu WaNT TO USE ANOTHER ANY OTHER WORD,IF YES TYPE y,ELSE n:\n",
      "y\n",
      "ENTER ANY WORD:\n",
      "house\n",
      "The string is not palindrome\n",
      "\n",
      "DO YOu WaNT TO USE ANOTHER ANY OTHER WORD,IF YES TYPE y,ELSE n:\n",
      "n\n",
      "HAVE A NICE DAY!\n"
     ]
    }
   ],
   "source": [
    "#Program 4\n",
    "print(\"THIS IS A PROGRAM TO CHECK IF THE GIVEN STRING IS PALINDROME\")\n",
    "def word():\n",
    "    a=input('ENTER ANY WORD:\\n')\n",
    "    a.casefold()\n",
    "    a1=a[::-1]\n",
    "    if a1==a:\n",
    "        print(\"The string is Palindrome\")\n",
    "    else:\n",
    "        print(\"The string is not palindrome\")  \n",
    "    again()    \n",
    "def again():\n",
    "    condition=input(\"\\nDO YOu WaNT TO USE ANOTHER ANY OTHER WORD,IF YES TYPE y,ELSE n:\\n\")\n",
    "    if condition=='y':\n",
    "        word() \n",
    "    elif condition=='n':\n",
    "        print(\"HAVE A NICE DAY!\")\n",
    "    else:\n",
    "        print(\"invalid command\")\n",
    "        again()\n",
    "word()\n",
    "\n",
    "\n",
    "    "
   ]
  },
  {
   "cell_type": "code",
   "execution_count": 5,
   "metadata": {},
   "outputs": [
    {
     "name": "stdout",
     "output_type": "stream",
     "text": [
      "****MARK SHEET****\n",
      "ENTER YOUR NAME: IBAD UR REHMAN\n",
      "ENTER YOUR FATHER'S NAME: MUHAMMAD ASGHAR\n",
      "ENTER YOUR ROLL NO: 19B-44-SE\n",
      "\n",
      "TOTAL MARKS OF ENGLISH IS 100\n",
      "OBTAINED MARKS IN ENGLISH :78\n",
      "\n",
      "TOTAL MARKS OF URDU IS 100\n",
      "OBTAINED MARKS IN URDU :66\n",
      "\n",
      "TOTAL MARKS OF MATH IS 100\n",
      "OBTAINED MARKS IN MATH :96\n",
      "\n",
      "TOTAL MARKS OF PHYSIC IS 100\n",
      "OBTAINED MARKS IN PHYSIC :69\n",
      "\n",
      "TOTAL MARKS OF COMPUTER IS 100\n",
      "OBTAINED MARKS IN COMPUTER :89\n",
      "\n",
      "TOTAL MARKS IN ALL FIVE SUBJECT ARE EQUAL TO 500\n",
      "OBTAINED MARKS IN ALL FIVE SUBJECT ARE EQUAL TO  398.0\n",
      "YOUR percentage is 79.60000000000001\n",
      "you got A grade\n"
     ]
    }
   ],
   "source": [
    "def marksheet():\n",
    "    print(\"****MARK SHEET****\")\n",
    "    name=input(\"ENTER YOUR NAME: \")\n",
    "    fname=input(\"ENTER YOUR FATHER'S NAME: \")\n",
    "    roll_no=input(\"ENTER YOUR ROLL NO: \")\n",
    "    print(\"\\nTOTAL MARKS OF ENGLISH IS 100\")\n",
    "    e=float(input(\"OBTAINED MARKS IN ENGLISH :\"))\n",
    "    print(\"\\nTOTAL MARKS OF URDU IS 100\")\n",
    "    u=float(input(\"OBTAINED MARKS IN URDU :\"))\n",
    "    print(\"\\nTOTAL MARKS OF MATH IS 100\")\n",
    "    m=float(input(\"OBTAINED MARKS IN MATH :\"))\n",
    "    print(\"\\nTOTAL MARKS OF PHYSIC IS 100\")\n",
    "    p=float(input(\"OBTAINED MARKS IN PHYSIC :\"))\n",
    "    print(\"\\nTOTAL MARKS OF COMPUTER IS 100\")\n",
    "    c=float(input(\"OBTAINED MARKS IN COMPUTER :\"))\n",
    "    t=500\n",
    "    print(\"\\nTOTAL MARKS IN ALL FIVE SUBJECT ARE EQUAL TO 500\")\n",
    "    q=e+u+m+p+c\n",
    "    print(\"OBTAINED MARKS IN ALL FIVE SUBJECT ARE EQUAL TO \",q)\n",
    "    per=float((q/t)*100)\n",
    "    print(\"YOUR percentage is\" ,per)\n",
    "\n",
    "    if per>39 and per<50:\n",
    "        print(\"you got D Grade\")\n",
    "    elif per>49 and per<60:\n",
    "        print(\"you got C grade\")\n",
    "    elif per>59 and per<70:\n",
    "        print(\"you got B grade\")\n",
    "    elif per>69 and per<80:\n",
    "        print(\"you got A grade\")\n",
    "    elif per>79 and per<=100:\n",
    "        print(\"you got A+ grade\")\n",
    "    else:\n",
    "        print(\"FAIL\")\n",
    "marksheet()        "
   ]
  },
  {
   "cell_type": "code",
   "execution_count": 11,
   "metadata": {},
   "outputs": [
    {
     "name": "stdout",
     "output_type": "stream",
     "text": [
      "Enter initial velocity (m/s):2\n",
      "Enter accleration (m/s^2)3\n",
      "Time Elapsed5\n",
      "Final Velocity in given motion is 17 m/s\n",
      "Enter initial velocity (m/s):0\n",
      "Enter accleration (m/s^2)2\n",
      "Time Elapsed5\n",
      "Distance covered in given time and velocity is equal to: 25.0 meters\n"
     ]
    }
   ],
   "source": [
    "#Program 6\n",
    "def firstlaw():\n",
    "    vi=int(input(\"Enter initial velocity (m/s):\"))\n",
    "    a=int(input(\"Enter accleration (m/s^2)\"))\n",
    "    t=int(input(\"Time Elapsed\"))\n",
    "    vf=vi+a*t\n",
    "    print(\"Final Velocity in given motion is\",vf,\"m/s\")\n",
    "firstlaw()\n",
    "def secondlaw():\n",
    "    vi=int(input(\"Enter initial velocity (m/s):\"))\n",
    "    a=int(input(\"Enter accleration (m/s^2)\"))\n",
    "    t=int(input(\"Time Elapsed\"))\n",
    "    s=vi*t+((1/2)*a*t**2)\n",
    "    print(\"Distance covered in given time and velocity is equal to:\",s,\"meters\")\n",
    "secondlaw()\n",
    "def thirdlaw():\n",
    "    vi=int(input(\"Enter initial velocity (m/s):\"))\n",
    "    vf=int(input(\"Enter final velocity (m/s^2):\"))\n",
    "    s=int(input(\"Distance covered (m)\"))\n",
    "    t=int(input(\"Time Elapsed (s)\"))\n",
    "    a=((vf**2)-(vi**2))/(s*2)\n",
    "    print(\"Acceleration achieved by system is equals to:\",a)\n",
    "thirdlaw()"
   ]
  },
  {
   "cell_type": "code",
   "execution_count": 15,
   "metadata": {},
   "outputs": [
    {
     "name": "stdout",
     "output_type": "stream",
     "text": [
      "enter the initial velocity (m/s): 2\n",
      "enter the value of gravity (m/s): 10\n",
      "enter the value of angle (degrees): 45\n",
      "Range of projectile: 0.28961472322583404 meters\n"
     ]
    }
   ],
   "source": [
    "#Program 7\n",
    "from math import sin\n",
    "#define projectile motion:\n",
    "def range():\n",
    "    vo=eval(input(\"enter the initial velocity (m/s): \"))\n",
    "    g=eval(input(\"enter the value of gravity (m/s): \"))\n",
    "    u=eval(input(\"enter the value of angle (degrees): \"))\n",
    "    r=vo**2*(sin(u))**2/g\n",
    "    print(\"Range of projectile:\",r,\"meters\")\n",
    "range()\n"
   ]
  },
  {
   "cell_type": "code",
   "execution_count": 6,
   "metadata": {},
   "outputs": [
    {
     "name": "stdout",
     "output_type": "stream",
     "text": [
      "Reverse of String given is : DABI\n"
     ]
    }
   ],
   "source": [
    "#Program 8\n",
    "def reverse(string):\n",
    "    string=string[::-1]\n",
    "    print(\"Reverse of String given is :\",string)\n",
    "    \n",
    "reverse(\"IBAD\")\n",
    "    "
   ]
  },
  {
   "cell_type": "code",
   "execution_count": 7,
   "metadata": {},
   "outputs": [
    {
     "name": "stdout",
     "output_type": "stream",
     "text": [
      "['K', 'h', 'o', 'o', 'r', 'p', 'b', 'q', 'd', 'p', 'h', 'l', 'v', 'L', 'e', 'd', 'g', 'x', 'u', 'U', 'h', 'k', 'p', 'd', 'q']\n"
     ]
    }
   ],
   "source": [
    "#Program 9\n",
    "def caesar_encrypt(realText,step):\n",
    "    outText=[]\n",
    "    encrypText=[]\n",
    "    uppercase=['A','B','C','D','E','F','G','H','I','J','K','L','M','N','O','P','Q','R','S','T','U','V','W','X','Y','Z']\n",
    "    lowercase=['a','b','c','d','e','f','g','h','i','j','k','l','m','n','o','p','q','r','s','t','u','v','w','x','y','z']\n",
    "    for eachletter in realText:\n",
    "        if eachletter in uppercase:\n",
    "            index=uppercase.index(eachletter)\n",
    "            encrypting=(index+step)%26\n",
    "            encrypText.append(encrypting)\n",
    "            newLetter=uppercase[encrypting]\n",
    "            outText.append(newLetter)\n",
    "        elif eachletter in lowercase:\n",
    "            index=lowercase.index(eachletter)\n",
    "            encrypting=(index+step)%26\n",
    "            encrypText.append(encrypting)\n",
    "            newsLetter=lowercase[encrypting]\n",
    "            outText.append(newsLetter)\n",
    "    print(outText) \n",
    "caesar_encrypt(\"Hello my name is Ibad ur Rehman\",3)"
   ]
  },
  {
   "cell_type": "code",
   "execution_count": 9,
   "metadata": {},
   "outputs": [
    {
     "name": "stdout",
     "output_type": "stream",
     "text": [
      "enter the initial value: 30\n",
      "enter the final valuue: 35\n",
      "sin 30 is equal to -0.9880316240928618\n",
      "cos 30 is equal to 0.15425144988758405\n",
      "tan 30 is equal to -6.405331196646276\n",
      "sin 31 is equal to -0.404037645323065\n",
      "cos 31 is equal to 0.9147423578045313\n",
      "tan 31 is equal to -0.441695568020698\n",
      "sin 32 is equal to 0.5514266812416906\n",
      "cos 32 is equal to 0.8342233605065102\n",
      "tan 32 is equal to 0.6610060414837631\n",
      "sin 33 is equal to 0.9999118601072672\n",
      "cos 33 is equal to -0.013276747223059479\n",
      "tan 33 is equal to -75.31301480008509\n",
      "sin 34 is equal to 0.5290826861200238\n",
      "cos 34 is equal to -0.8485702747846052\n",
      "tan 34 is equal to -0.6234989627162255\n"
     ]
    }
   ],
   "source": [
    "#Program 10\n",
    "from math import sin,cos,tan\n",
    "def table():\n",
    "    a=int(input(\"enter the initial value: \"))\n",
    "    b=int(input(\"enter the final valuue: \"))\n",
    "    for i in range(a,b):\n",
    "        print(\"sin\", i,\"is equal to\",sin(i))\n",
    "        print(\"cos\", i,\"is equal to\",cos(i))\n",
    "        print(\"tan\", i,\"is equal to\",tan(i))\n",
    "table()\n"
   ]
  },
  {
   "cell_type": "code",
   "execution_count": 8,
   "metadata": {},
   "outputs": [
    {
     "name": "stdout",
     "output_type": "stream",
     "text": [
      "enter the initial value: 10\n",
      "enter the final valuue: 12\n",
      "sin on 10 -0.5440211108893698\n",
      "cos on 10 -0.8390715290764524\n",
      "tan on 10 0.6483608274590866\n",
      "sin on 11 -0.9999902065507035\n",
      "cos on 11 0.004425697988050785\n",
      "tan on 11 -225.95084645419513\n",
      "sin on 12 -0.5365729180004349\n",
      "cos on 12 0.8438539587324921\n",
      "tan on 12 -0.6358599286615808\n"
     ]
    }
   ],
   "source": [
    "from math import sin,cos,tan\n",
    "def table():\n",
    "    x=int(input(\"enter the initial value: \"))\n",
    "    y=int(input(\"enter the final valuue: \"))\n",
    "    for i in range(x,y+1):\n",
    "        print(\"sin on\", i,sin(i))\n",
    "        print(\"cos on\", i,cos(i))\n",
    "        print(\"tan on\", i,tan(i))\n",
    "table() "
   ]
  },
  {
   "cell_type": "code",
   "execution_count": 11,
   "metadata": {},
   "outputs": [
    {
     "name": "stdout",
     "output_type": "stream",
     "text": [
      "Area including semi-circle is : 153.93804002589985 cm² \n",
      "Area excluding semi-circle is 76.96902001294993 cm²\n",
      "Perimeter excluding semi-circle is: 65.97344572538566 cm\n",
      "Perimeter including semi-circle is: 115.45353001942489 cm\n"
     ]
    }
   ],
   "source": [
    "#Program 11\n",
    "from math import pi\n",
    "def semicircle():\n",
    "    R=14/2\n",
    "    r=R/2\n",
    "    area_include=pi * R**2\n",
    "    area_exclude=(pi * R**2)-(pi * r**2)-(pi * r**2)\n",
    "    arc_length1=pi * R\n",
    "    arc_length2=pi * r**2\n",
    "    print(\"Area including semi-circle is :\", area_include,\"cm\\u00b2 \\nArea excluding semi-circle is\", area_exclude,\"cm\\u00b2\")\n",
    "    print(\"Perimeter excluding semi-circle is:\", arc_length1+arc_length1+arc_length1, \"cm\")\n",
    "    print(\"Perimeter including semi-circle is:\", arc_length2+arc_length2+arc_length2, \"cm\")\n",
    "semicircle()"
   ]
  },
  {
   "cell_type": "code",
   "execution_count": null,
   "metadata": {},
   "outputs": [],
   "source": []
  }
 ],
 "metadata": {
  "kernelspec": {
   "display_name": "Python 3",
   "language": "python",
   "name": "python3"
  },
  "language_info": {
   "codemirror_mode": {
    "name": "ipython",
    "version": 3
   },
   "file_extension": ".py",
   "mimetype": "text/x-python",
   "name": "python",
   "nbconvert_exporter": "python",
   "pygments_lexer": "ipython3",
   "version": "3.7.4"
  }
 },
 "nbformat": 4,
 "nbformat_minor": 2
}
