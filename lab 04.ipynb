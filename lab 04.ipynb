{
 "cells": [
  {
   "cell_type": "code",
   "execution_count": 1,
   "metadata": {},
   "outputs": [
    {
     "name": "stdout",
     "output_type": "stream",
     "text": [
      "This is a Program which solves the quadratic equation\n",
      "input value of a:2\n",
      "input value of b:5\n",
      "input value of c:2\n",
      "(-2+0j) (-0.5+0j)\n"
     ]
    }
   ],
   "source": [
    "import cmath\n",
    "print(\"This is a Program which solves the quadratic equation\")\n",
    "a=int(input(\"input value of a:\"))\n",
    "b=int(input(\"input value of b:\"))\n",
    "c=int(input(\"input value of c:\"))\n",
    "d = (b**2) - (4*a*c)\n",
    "if a == 0:\n",
    "    print(\"the equation cannot solve as there is a zero is in denominator\")\n",
    "else:    \n",
    "    f1 = (-b-cmath.sqrt(d))/(2*a)\n",
    "    f2 = (-b+cmath.sqrt(d))/(2*a)\n",
    "\n",
    "    print (f1,f2)"
   ]
  },
  {
   "cell_type": "code",
   "execution_count": 1,
   "metadata": {},
   "outputs": [
    {
     "name": "stdout",
     "output_type": "stream",
     "text": [
      "This program will generate the nth term of the sequence\n",
      "Input first term of sequence3\n",
      "Input common difference6\n",
      "Input which term answer you need:35\n",
      "The value of  35 term is 207\n",
      "\n",
      "DO YOu WaNT TO USE ANOTHER nTH TERM,IF YES TYPE y,ELSE n:\n",
      "y\n",
      "Input first term of sequence3\n",
      "Input common difference6\n",
      "Input which term answer you need:45\n",
      "The value of  45 term is 267\n",
      "\n",
      "DO YOu WaNT TO USE ANOTHER nTH TERM,IF YES TYPE y,ELSE n:\n",
      "y\n",
      "Input first term of sequence3\n",
      "Input common difference6\n",
      "Input which term answer you need:65\n",
      "The value of  65 term is 387\n",
      "\n",
      "DO YOu WaNT TO USE ANOTHER nTH TERM,IF YES TYPE y,ELSE n:\n",
      "n\n",
      "HAVE A NICE DAY!\n"
     ]
    }
   ],
   "source": [
    "print(\"This program will generate the nth term of the sequence\") \n",
    "def Tn():\n",
    "    a=int(input(\"Input first term of sequence\"))\n",
    "    d=int(input(\"Input common difference\"))\n",
    "    n=int(input(\"Input which term answer you need:\"))\n",
    "    Tn=a+(n-1)*d\n",
    "    print(\"The value of \",n, \"term is\",Tn)\n",
    "    again()\n",
    "def again():\n",
    "    condition=input(\"\\nDO YOu WaNT TO USE ANOTHER nTH TERM,IF YES TYPE y,ELSE n:\\n\")\n",
    "    if condition=='y':\n",
    "        Tn() \n",
    "    elif condition=='n':\n",
    "        print(\"HAVE A NICE DAY!\")\n",
    "    else: \n",
    "        print(\"you press a invalid key\" )\n",
    "Tn()    "
   ]
  },
  {
   "cell_type": "code",
   "execution_count": 2,
   "metadata": {},
   "outputs": [
    {
     "name": "stdout",
     "output_type": "stream",
     "text": [
      "THIS IS A PROGRAM TO CHECK IF THE GIVEN STRING IS PALINDROME\n",
      "ENTER ANY WORD:\n",
      "ibad\n",
      "The string is not palindrome\n",
      "\n",
      "DO YOu WaNT TO USE ANOTHER ANY OTHER WORD,IF YES TYPE y,ELSE n:\n",
      "y\n",
      "ENTER ANY WORD:\n",
      "civic\n",
      "The string is Palindrome\n",
      "\n",
      "DO YOu WaNT TO USE ANOTHER ANY OTHER WORD,IF YES TYPE y,ELSE n:\n",
      "y\n",
      "ENTER ANY WORD:\n",
      "mom\n",
      "The string is Palindrome\n",
      "\n",
      "DO YOu WaNT TO USE ANOTHER ANY OTHER WORD,IF YES TYPE y,ELSE n:\n",
      "y\n",
      "ENTER ANY WORD:\n",
      "1001\n",
      "The string is Palindrome\n",
      "\n",
      "DO YOu WaNT TO USE ANOTHER ANY OTHER WORD,IF YES TYPE y,ELSE n:\n",
      "n\n",
      "HAVE A NICE DAY!\n"
     ]
    }
   ],
   "source": [
    "print(\"THIS IS A PROGRAM TO CHECK IF THE GIVEN STRING IS PALINDROME\")\n",
    "def word():\n",
    "    a=input('ENTER ANY WORD:\\n')\n",
    "    a.casefold()\n",
    "    a1=a[::-1]\n",
    "    if a1==a:\n",
    "        print(\"The string is Palindrome\")\n",
    "    else:\n",
    "        print(\"The string is not palindrome\")  \n",
    "    again()    \n",
    "def again():\n",
    "    condition=input(\"\\nDO YOu WaNT TO USE ANOTHER ANY OTHER WORD,IF YES TYPE y,ELSE n:\\n\")\n",
    "    if condition=='y':\n",
    "        word() \n",
    "    elif condition=='n':\n",
    "        print(\"HAVE A NICE DAY!\")\n",
    "    else:\n",
    "        print(\"invalid command\")\n",
    "        again()\n",
    "word()\n",
    "\n",
    "\n",
    "    "
   ]
  },
  {
   "cell_type": "code",
   "execution_count": 29,
   "metadata": {},
   "outputs": [
    {
     "name": "stdout",
     "output_type": "stream",
     "text": [
      "****MARK SHEET****\n",
      "ENTER YOUR NAME: ibad\n",
      "ENTER YOUR FATHER'S NAME: asghar\n",
      "ENTER YOUR ROLL NO: 44\n",
      "\n",
      "TOTAL MARKS OF ENGLISH IS 100\n",
      "OBTAINED MARKS IN ENGLISH :52\n",
      "\n",
      "TOTAL MARKS OF URDU IS 100\n",
      "OBTAINED MARKS IN URDU :88\n",
      "\n",
      "TOTAL MARKS OF MATH IS 100\n",
      "OBTAINED MARKS IN MATH :65\n",
      "\n",
      "TOTAL MARKS OF PHYSIC IS 100\n",
      "OBTAINED MARKS IN PHYSIC :97\n",
      "\n",
      "TOTAL MARKS OF COMPUTER IS 100\n",
      "OBTAINED MARKS IN COMPUTER :67\n",
      "\n",
      "TOTAL MARKS IN ALL FIVE SUBJECT ARE EQUAL TO 500\n",
      "OBTAINED MARKS IN ALL FIVE SUBJECT ARE EQUAL TO  369.0\n",
      "YOUR percentage is 73.8\n",
      "you got A grade\n"
     ]
    }
   ],
   "source": [
    "print(\"****MARK SHEET****\")\n",
    "name=input(\"ENTER YOUR NAME: \")\n",
    "fname=input(\"ENTER YOUR FATHER'S NAME: \")\n",
    "roll_no=input(\"ENTER YOUR ROLL NO: \")\n",
    "print(\"\\nTOTAL MARKS OF ENGLISH IS 100\")\n",
    "e=float(input(\"OBTAINED MARKS IN ENGLISH :\"))\n",
    "print(\"\\nTOTAL MARKS OF URDU IS 100\")\n",
    "u=float(input(\"OBTAINED MARKS IN URDU :\"))\n",
    "print(\"\\nTOTAL MARKS OF MATH IS 100\")\n",
    "m=float(input(\"OBTAINED MARKS IN MATH :\"))\n",
    "print(\"\\nTOTAL MARKS OF PHYSIC IS 100\")\n",
    "p=float(input(\"OBTAINED MARKS IN PHYSIC :\"))\n",
    "print(\"\\nTOTAL MARKS OF COMPUTER IS 100\")\n",
    "c=float(input(\"OBTAINED MARKS IN COMPUTER :\"))\n",
    "t=500\n",
    "print(\"\\nTOTAL MARKS IN ALL FIVE SUBJECT ARE EQUAL TO 500\")\n",
    "q=e+u+m+p+c\n",
    "print(\"OBTAINED MARKS IN ALL FIVE SUBJECT ARE EQUAL TO \",q)\n",
    "per=float((q/t)*100)\n",
    "print(\"YOUR percentage is\" ,per)\n",
    "\n",
    "if per>39 and per<50:\n",
    "    print(\"you got D Grade\")\n",
    "elif per>49 and per<60:\n",
    "    print(\"you got C grade\")\n",
    "elif per>59 and per<70:\n",
    "    print(\"you got B grade\")\n",
    "elif per>69 and per<80:\n",
    "    print(\"you got A grade\")\n",
    "elif per>79 and per<=100:\n",
    "    print(\"you got A+ grade\")\n",
    "else:\n",
    "    print(\"FAIL\")"
   ]
  },
  {
   "cell_type": "code",
   "execution_count": 38,
   "metadata": {},
   "outputs": [
    {
     "name": "stdout",
     "output_type": "stream",
     "text": [
      "1 2 3 4 5 \n",
      "2 4 6 8 10 \n",
      "3 6 9 12 15 \n",
      "4 8 12 16 20 \n",
      "5 10 15 20 25 \n"
     ]
    }
   ],
   "source": [
    "for i in range(1,6):\n",
    "    for j in range(1,6):\n",
    "        k=i*j\n",
    "        print(k, end=' ')\n",
    "    print()    "
   ]
  },
  {
   "cell_type": "code",
   "execution_count": 45,
   "metadata": {},
   "outputs": [
    {
     "name": "stdout",
     "output_type": "stream",
     "text": [
      "[[2, 4], [6, 8]]\n"
     ]
    }
   ],
   "source": [
    "x=[[1,2],[3,4]]\n",
    "y=[[1,2],[3,4]]\n",
    "result=[[0,0],\n",
    "        [0,0]]\n",
    "for i in range(len(x)):\n",
    "    for j in range(len(y)):\n",
    "        result[i][j] = x[i][j] + y[i][j]\n",
    "print(result)    "
   ]
  },
  {
   "cell_type": "code",
   "execution_count": 46,
   "metadata": {},
   "outputs": [
    {
     "name": "stdout",
     "output_type": "stream",
     "text": [
      "[[1, 4], [9, 16]]\n"
     ]
    }
   ],
   "source": [
    "x=[[1,2],[3,4]]\n",
    "y=[[1,2],[3,4]]\n",
    "result=[[0,0],\n",
    "        [0,0]]\n",
    "for i in range(len(x)):\n",
    "    for j in range(len(y)):\n",
    "        result[i][j] = x[i][j] * y[i][j]\n",
    "print(result)  "
   ]
  },
  {
   "cell_type": "code",
   "execution_count": null,
   "metadata": {},
   "outputs": [],
   "source": []
  }
 ],
 "metadata": {
  "kernelspec": {
   "display_name": "Python 3",
   "language": "python",
   "name": "python3"
  },
  "language_info": {
   "codemirror_mode": {
    "name": "ipython",
    "version": 3
   },
   "file_extension": ".py",
   "mimetype": "text/x-python",
   "name": "python",
   "nbconvert_exporter": "python",
   "pygments_lexer": "ipython3",
   "version": "3.7.4"
  }
 },
 "nbformat": 4,
 "nbformat_minor": 2
}
