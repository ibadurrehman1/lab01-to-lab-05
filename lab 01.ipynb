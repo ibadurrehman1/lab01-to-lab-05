{
 "cells": [
  {
   "cell_type": "code",
   "execution_count": 1,
   "metadata": {},
   "outputs": [
    {
     "name": "stdout",
     "output_type": "stream",
     "text": [
      "Length of rectangle: 4\n",
      "width of rectangle: 5\n",
      "area of rectangle is: 20\n"
     ]
    }
   ],
   "source": [
    "L=int(input(\"Length of rectangle: \"))\n",
    "W=int(input(\"width of rectangle: \"))\n",
    "A=str(L*W)\n",
    "print(\"area of rectangle is: \"+ A)\n",
    "\n"
   ]
  },
  {
   "cell_type": "code",
   "execution_count": 2,
   "metadata": {},
   "outputs": [
    {
     "name": "stdout",
     "output_type": "stream",
     "text": [
      "enter radius7\n",
      "volume of sphere: 1436.755040241732\n"
     ]
    }
   ],
   "source": [
    "from math import pi\n",
    "r = int(input(\"enter radius\"))\n",
    "var = (4*pi*r**3)/3\n",
    "print(\"volume of sphere: \"+ str (var))"
   ]
  },
  {
   "cell_type": "code",
   "execution_count": 1,
   "metadata": {},
   "outputs": [
    {
     "name": "stdout",
     "output_type": "stream",
     "text": [
      "enter your nameibad\n",
      "IBAD\n",
      "ibad\n",
      "Ibad\n"
     ]
    }
   ],
   "source": [
    "name = input(\"enter your name\")\n",
    "print(name.upper())\n",
    "print(name.lower())\n",
    "print(name.title())"
   ]
  },
  {
   "cell_type": "code",
   "execution_count": 16,
   "metadata": {},
   "outputs": [
    {
     "name": "stdout",
     "output_type": "stream",
     "text": [
      "enter value of fahrenheit: 4\n",
      "-15.555555555555555\n"
     ]
    }
   ],
   "source": [
    "F=int(input(\"enter value of fahrenheit: \"))\n",
    "c=str((F-32)*5/9)\n",
    "print(c)"
   ]
  },
  {
   "cell_type": "code",
   "execution_count": 19,
   "metadata": {},
   "outputs": [
    {
     "name": "stdout",
     "output_type": "stream",
     "text": [
      "enter value of calcius: 5\n",
      "41.0\n"
     ]
    }
   ],
   "source": [
    "C=int(input(\"enter value of calcius: \"))\n",
    "F=str((C*9/5)+32)\n",
    "print(F)"
   ]
  },
  {
   "cell_type": "code",
   "execution_count": 2,
   "metadata": {},
   "outputs": [
    {
     "name": "stdout",
     "output_type": "stream",
     "text": [
      "what is your nameIbad ur rehman\n",
      "how old are you18\n",
      "Ibad ur rehman will be 100 year old in the year 2101\n"
     ]
    }
   ],
   "source": [
    "name = input(\"what is your name\")\n",
    "age=int(input(\"how old are you\"))\n",
    "year=str((2019-age)+100)\n",
    "print(name+ \" will be 100 year old in the year \"+year)\n"
   ]
  },
  {
   "cell_type": "code",
   "execution_count": 3,
   "metadata": {},
   "outputs": [
    {
     "name": "stdout",
     "output_type": "stream",
     "text": [
      "Twinkle twinkle little star,\n",
      "\tHow i wounder what you are!\n",
      "\tUp above the world so high,\n",
      "\tLike a diamond in the sky.\n",
      " twinkle twinkle little star, \n",
      "\t How i wonder what you are!\n"
     ]
    }
   ],
   "source": [
    "print(\"Twinkle twinkle little star,\\n\\tHow i wounder what you are!\\n\\tUp above the world so high,\\n\\tLike a diamond in the sky.\\n twinkle twinkle little star, \\n\\t How i wonder what you are!\")"
   ]
  },
  {
   "cell_type": "code",
   "execution_count": 5,
   "metadata": {},
   "outputs": [
    {
     "name": "stdout",
     "output_type": "stream",
     "text": [
      "current date and time\n",
      "2019-10-23 12:58:56\n"
     ]
    }
   ],
   "source": [
    "import datetime\n",
    "now=datetime.datetime.now()\n",
    "print(\"current date and time\")\n",
    "print(now.strftime(\"%Y-%m-%d %H:%M:%S\"))"
   ]
  },
  {
   "cell_type": "code",
   "execution_count": 1,
   "metadata": {},
   "outputs": [
    {
     "name": "stdout",
     "output_type": "stream",
     "text": [
      "pakistan\n"
     ]
    }
   ],
   "source": [
    "print(\"pakistan\")"
   ]
  },
  {
   "cell_type": "code",
   "execution_count": 4,
   "metadata": {},
   "outputs": [
    {
     "name": "stdout",
     "output_type": "stream",
     "text": [
      "input the year:2000\n",
      "input the month:12\n",
      "   December 2000\n",
      "Mo Tu We Th Fr Sa Su\n",
      "             1  2  3\n",
      " 4  5  6  7  8  9 10\n",
      "11 12 13 14 15 16 17\n",
      "18 19 20 21 22 23 24\n",
      "25 26 27 28 29 30 31\n",
      "\n"
     ]
    }
   ],
   "source": [
    "import calendar\n",
    "y=int(input(\"input the year:\"))\n",
    "m=int(input(\"input the month:\"))\n",
    "print(calendar.month(y,m))"
   ]
  },
  {
   "cell_type": "code",
   "execution_count": 5,
   "metadata": {},
   "outputs": [
    {
     "name": "stdout",
     "output_type": "stream",
     "text": [
      "Input your first name: Ibad\n",
      "input your last name: Ur Rehman\n",
      "hello Ibad Ur Rehman\n"
     ]
    }
   ],
   "source": [
    "fname=input(\"Input your first name: \")\n",
    "lname=input(\"input your last name: \")\n",
    "print (\"hello \" + fname + \" \" + lname)"
   ]
  },
  {
   "cell_type": "code",
   "execution_count": 6,
   "metadata": {},
   "outputs": [
    {
     "name": "stdout",
     "output_type": "stream",
     "text": [
      "Input the radius of the circle : 12\n",
      "The area of circle with radius 12.0 is: 452.3893421169302\n"
     ]
    }
   ],
   "source": [
    "from math import pi\n",
    "r = float(input (\"Input the radius of the circle : \" ))\n",
    "print (\"The area of circle with radius \" + str(r) + \" is: \" + str(pi * r**2))\n"
   ]
  },
  {
   "cell_type": "code",
   "execution_count": null,
   "metadata": {},
   "outputs": [],
   "source": []
  }
 ],
 "metadata": {
  "kernelspec": {
   "display_name": "Python 3",
   "language": "python",
   "name": "python3"
  },
  "language_info": {
   "codemirror_mode": {
    "name": "ipython",
    "version": 3
   },
   "file_extension": ".py",
   "mimetype": "text/x-python",
   "name": "python",
   "nbconvert_exporter": "python",
   "pygments_lexer": "ipython3",
   "version": "3.7.4"
  }
 },
 "nbformat": 4,
 "nbformat_minor": 2
}
