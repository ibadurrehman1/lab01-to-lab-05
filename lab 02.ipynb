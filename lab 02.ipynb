{
 "cells": [
  {
   "cell_type": "code",
   "execution_count": 1,
   "metadata": {},
   "outputs": [
    {
     "name": "stdout",
     "output_type": "stream",
     "text": [
      "()\n",
      "()\n"
     ]
    }
   ],
   "source": [
    "x=()\n",
    "print(x)\n",
    "tuple1=tuple()\n",
    "print(tuple1)"
   ]
  },
  {
   "cell_type": "code",
   "execution_count": 2,
   "metadata": {},
   "outputs": [
    {
     "name": "stdout",
     "output_type": "stream",
     "text": [
      "[10, 22, 44, 23, 55]\n",
      "[10, 22, 44, 23, 55]\n"
     ]
    }
   ],
   "source": [
    "original_list1 = [10,22,44,23,55]\n",
    "new_list2 = list(original_list1)\n",
    "print(original_list1)\n",
    "print(new_list2)"
   ]
  },
  {
   "cell_type": "code",
   "execution_count": 3,
   "metadata": {},
   "outputs": [
    {
     "name": "stdout",
     "output_type": "stream",
     "text": [
      "('tuple', False, 3.2, 1)\n"
     ]
    }
   ],
   "source": [
    "#create a tuple with differentdata type\n",
    "tuple2=(\"tuple\",False,3.2,1)\n",
    "print(tuple2)"
   ]
  },
  {
   "cell_type": "code",
   "execution_count": 4,
   "metadata": {},
   "outputs": [
    {
     "name": "stdout",
     "output_type": "stream",
     "text": [
      "('u', 'I', 'T', '2', '0', '1', '9', 'b', 'a', 't', 'c', 'h')\n",
      "2\n",
      "a\n"
     ]
    }
   ],
   "source": [
    "#get an item of the tuple\n",
    "tuplex=(\"u\",\"I\",\"T\",\"2\",\"0\",\"1\",\"9\",\"b\",\"a\",\"t\",\"c\",\"h\")\n",
    "print(tuplex)\n",
    "#Get item (4th element) of the tuple by index\n",
    "item=tuplex[3]\n",
    "print(item)\n",
    "#Get item (4th element from last) by index negative\n",
    "item1=tuplex[-4]\n",
    "print(item1)\n"
   ]
  },
  {
   "cell_type": "code",
   "execution_count": 5,
   "metadata": {
    "scrolled": true
   },
   "outputs": [
    {
     "data": {
      "text/plain": [
       "[2, 3, 4, 5, 6]"
      ]
     },
     "execution_count": 5,
     "metadata": {},
     "output_type": "execute_result"
    }
   ],
   "source": [
    "lst=[2,3,4]\n",
    "lst.extend([5,6])\n",
    "lst\n",
    "lst2=lst.copy()\n",
    "lst2\n",
    "lst.clear()\n",
    "lst\n",
    "[]\n",
    "lst2"
   ]
  },
  {
   "cell_type": "code",
   "execution_count": 1,
   "metadata": {},
   "outputs": [
    {
     "name": "stdout",
     "output_type": "stream",
     "text": [
      "LENGTH OF THE LADDER:5\n",
      "input angle in degree:45\n",
      "The height of the ladder is 3.5355339059327378\n"
     ]
    }
   ],
   "source": [
    "#this program is to compute the height reached by the ladder with the help of length and angle\n",
    "import math\n",
    "length = float(input(\"LENGTH OF THE LADDER:\"))\n",
    "ang_d = float(input(\"input angle in degree:\"))\n",
    "ang_r=math.pi*ang_d/180\n",
    "height=length*math.sin(ang_r)\n",
    "print(\"The height of the ladder is\", height)\n",
    "           "
   ]
  },
  {
   "cell_type": "code",
   "execution_count": 4,
   "metadata": {},
   "outputs": [
    {
     "name": "stdout",
     "output_type": "stream",
     "text": [
      "253\n"
     ]
    }
   ],
   "source": [
    "lst=[11,52,253,45,98]\n",
    "middle = int(len(lst) / 2)\n",
    "print(lst[first_middle])  "
   ]
  },
  {
   "cell_type": "code",
   "execution_count": 8,
   "metadata": {},
   "outputs": [
    {
     "name": "stdout",
     "output_type": "stream",
     "text": [
      "my number list in descending [535, 61, 51, 44, 6]\n"
     ]
    }
   ],
   "source": [
    "number_list=[44,51,61,535,6]\n",
    "number_list.sort(reverse = True)\n",
    "print(\"my number list in descending\",number_list)"
   ]
  },
  {
   "cell_type": "code",
   "execution_count": 10,
   "metadata": {},
   "outputs": [
    {
     "name": "stdout",
     "output_type": "stream",
     "text": [
      "[53, 61, 43, 16, 32]\n"
     ]
    }
   ],
   "source": [
    "no_list=[32,53,61,43,16]\n",
    "no_list.insert(len(no_list),no_list.pop(0))\n",
    "print(no_list)"
   ]
  },
  {
   "cell_type": "code",
   "execution_count": 67,
   "metadata": {},
   "outputs": [
    {
     "name": "stdout",
     "output_type": "stream",
     "text": [
      "1\n"
     ]
    }
   ],
   "source": [
    "lst=[11,2,253,45,98]\n",
    "middle = int(len(lst) / 2)\n",
    "middle_index = lst.index(middle)\n",
    "print(middle_index)  "
   ]
  },
  {
   "cell_type": "code",
   "execution_count": 49,
   "metadata": {},
   "outputs": [
    {
     "name": "stdout",
     "output_type": "stream",
     "text": [
      "['jan', 'feb', 'mar', 'apr', 'may']\n",
      "('jan', 'feb', 'mar', 'apr', 'may')\n"
     ]
    }
   ],
   "source": [
    "monthl=['jan','feb','mar','may']\n",
    "montht=('jan','feb','mar','may')\n",
    "monthl.insert(3,'apr')\n",
    "montht = montht[ : 3 ] + ('apr' ,)+montht[3:]\n",
    "print(monthl)\n",
    "print(montht)\n"
   ]
  },
  {
   "cell_type": "code",
   "execution_count": 50,
   "metadata": {},
   "outputs": [
    {
     "name": "stdout",
     "output_type": "stream",
     "text": [
      "['jan', 'feb', 'mar', 'apr', 'may', 'jun']\n",
      "('jan', 'feb', 'mar', 'apr', 'may', 'jun')\n"
     ]
    }
   ],
   "source": [
    "monthl.insert(5,'jun')\n",
    "print(monthl)\n",
    "montht=montht[:5]+('jun',)+montht[5:]\n",
    "print(montht)"
   ]
  },
  {
   "cell_type": "code",
   "execution_count": 59,
   "metadata": {},
   "outputs": [
    {
     "data": {
      "text/plain": [
       "'may'"
      ]
     },
     "execution_count": 59,
     "metadata": {},
     "output_type": "execute_result"
    }
   ],
   "source": [
    "month=['jan','feb','mar','may']\n",
    "month1=('jan','feb','mar','may')\n",
    "month1=list(month1)\n",
    "month1.pop()\n",
    "month.pop()"
   ]
  },
  {
   "cell_type": "code",
   "execution_count": 69,
   "metadata": {},
   "outputs": [
    {
     "name": "stdout",
     "output_type": "stream",
     "text": [
      "['jan', 'mar', 'may']\n",
      "['jan', 'mar', 'may']\n"
     ]
    }
   ],
   "source": [
    "monthl=['jan','feb','mar','may']\n",
    "monthl.remove('feb')\n",
    "montht=('jan','feb','mar','may')\n",
    "montht=list(montht)\n",
    "montht.remove('feb')\n",
    "print(montht)\n",
    "print(monthl)"
   ]
  },
  {
   "cell_type": "code",
   "execution_count": 71,
   "metadata": {},
   "outputs": [
    {
     "name": "stdout",
     "output_type": "stream",
     "text": [
      "['may', 'mar', 'feb', 'jan']\n"
     ]
    }
   ],
   "source": [
    "month5=['jan','feb','mar','may']\n",
    "month5.reverse()\n",
    "print(month5)"
   ]
  },
  {
   "cell_type": "code",
   "execution_count": 88,
   "metadata": {},
   "outputs": [
    {
     "name": "stdout",
     "output_type": "stream",
     "text": [
      "['feb', 'jan', 'mar', 'may']\n"
     ]
    }
   ],
   "source": [
    "month5=['jan','feb','mar','may']\n",
    "month5.sort()\n",
    "print(month5)"
   ]
  },
  {
   "cell_type": "code",
   "execution_count": 86,
   "metadata": {},
   "outputs": [
    {
     "name": "stdout",
     "output_type": "stream",
     "text": [
      "the number of character in the word anachronistically is 17\n",
      "the number of character in the word counterintutive is 15\n",
      "the number in character anachronistically 2 then counterintutive\n"
     ]
    }
   ],
   "source": [
    "first_word= 'anachronistically'\n",
    "second_word= 'counterintutive'\n",
    "print(\"the number of character in the word anachronistically is \" +str(len(first_word ))) \n",
    "print(\"the number of character in the word counterintutive is \" +str(len(second_word))) \n",
    "print(\"the number in character anachronistically \"+str(len(first_word)-(len(second_word)))+\" then counterintutive\")"
   ]
  },
  {
   "cell_type": "code",
   "execution_count": 87,
   "metadata": {},
   "outputs": [
    {
     "name": "stdout",
     "output_type": "stream",
     "text": [
      "number of e in given word is 0\n"
     ]
    }
   ],
   "source": [
    "wor=(\"floccinaucinihilipilification\") \n",
    "wor.count(\"e\")\n",
    "print(\"number of e in given word is \"+str(wor.count(\"e\")))"
   ]
  },
  {
   "cell_type": "code",
   "execution_count": 89,
   "metadata": {},
   "outputs": [
    {
     "name": "stdout",
     "output_type": "stream",
     "text": [
      "['misinterpretation', 'misrepresentation']\n"
     ]
    }
   ],
   "source": [
    "dictionary=['misrepresentation','misinterpretation']\n",
    "dictionary.sort()\n",
    "print(dictionary)"
   ]
  },
  {
   "cell_type": "code",
   "execution_count": 90,
   "metadata": {},
   "outputs": [
    {
     "name": "stdout",
     "output_type": "stream",
     "text": [
      "number of characters in counterrevolutionis 17\n",
      "sum of counter and revolution is 17\n",
      "NUMBER OF LETTER IN ELEMENT 1 ARE EQUAL TO THE SUM OF THE LETTLES OF ELEMENT 2 AND 3\n"
     ]
    }
   ],
   "source": [
    "ELEMENT_1 =\"counterrevolution\" \n",
    "ELEMENT_2=\"counter\" \n",
    "ELEMENT_3=\"revolution\" \n",
    "print(\"number of characters in counterrevolutionis \"+str(len(ELEMENT_1))) \n",
    "print(\"sum of counter and revolution is \"+str(len(ELEMENT_2)+(len(ELEMENT_3))))\n",
    "print(\"NUMBER OF LETTER IN ELEMENT 1 ARE EQUAL TO THE SUM OF THE LETTLES OF ELEMENT 2 AND 3\")"
   ]
  },
  {
   "cell_type": "code",
   "execution_count": 1,
   "metadata": {},
   "outputs": [
    {
     "name": "stdout",
     "output_type": "stream",
     "text": [
      "3.0\n",
      "my fullname is John Fitzgerald Kennad\n"
     ]
    }
   ],
   "source": [
    "a=2 \n",
    "b=4 \n",
    "c=(a+b)/2 \n",
    "print(c)\n",
    "inventory = ['paper','staplers','pencil'] \n",
    "first = 'John' \n",
    "middle = 'Fitzgerald' \n",
    "last = 'Kennad' \n",
    "fullname = first + \" \" + middle + \" \" + last \n",
    "print(\"my fullname is \" + fullname)"
   ]
  },
  {
   "cell_type": "code",
   "execution_count": 19,
   "metadata": {},
   "outputs": [
    {
     "name": "stdout",
     "output_type": "stream",
     "text": [
      "Number of days between date_1 and date_2 are: 127 days\n"
     ]
    }
   ],
   "source": [
    "from datetime import date\n",
    "date_1 = date(2019, 1, 8)\n",
    "date_2 = date(2019, 5, 15)\n",
    "difference = date_2 - date_1\n",
    "print(\"Number of days between date_1 and date_2 are:\",difference.days, \"days\")\n"
   ]
  },
  {
   "cell_type": "code",
   "execution_count": 2,
   "metadata": {},
   "outputs": [
    {
     "name": "stdout",
     "output_type": "stream",
     "text": [
      "True\n",
      "False\n",
      "True\n",
      "False\n"
     ]
    }
   ],
   "source": [
    "from math import sqrt\n",
    "r=10\n",
    "X=0\n",
    "Y=0\n",
    "first_target=sqrt((0-0)**2+(0-0)**2)\n",
    "second_target=sqrt((10-0)**2+(10-0)**2)\n",
    "third_target=sqrt((6-0)**2+(6-0)**2)\n",
    "fourth_target=sqrt((8-0)**2+(7-0)**2)\n",
    "print(first_target<r)\n",
    "print(second_target<r)\n",
    "print(third_target<r)\n",
    "print(fourth_target<r)"
   ]
  }
 ],
 "metadata": {
  "kernelspec": {
   "display_name": "Python 3",
   "language": "python",
   "name": "python3"
  },
  "language_info": {
   "codemirror_mode": {
    "name": "ipython",
    "version": 3
   },
   "file_extension": ".py",
   "mimetype": "text/x-python",
   "name": "python",
   "nbconvert_exporter": "python",
   "pygments_lexer": "ipython3",
   "version": "3.7.4"
  }
 },
 "nbformat": 4,
 "nbformat_minor": 2
}
